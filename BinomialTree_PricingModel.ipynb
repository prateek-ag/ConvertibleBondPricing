{
 "cells": [
  {
   "cell_type": "code",
   "execution_count": 1,
   "metadata": {},
   "outputs": [],
   "source": [
    "import numpy as np\n",
    "from dateutil.relativedelta import relativedelta\n",
    "import datetime"
   ]
  },
  {
   "cell_type": "code",
   "execution_count": 6,
   "metadata": {},
   "outputs": [],
   "source": [
    "class BinomialTreeModel:\n",
    "    def __init__(self, val_date, mat_date, coupon, payment_freq, risk_free_rate, vol, di, spot_price, \n",
    "                 conversion_ratio, recovery_value):\n",
    "        \n",
    "        self.duration = relativedelta(mat_date, val_date).years\n",
    "        \n",
    "        self.coupon = coupon\n",
    "        self.payment_freq = payment_freq\n",
    "        self.vol = vol\n",
    "        self.di = di\n",
    "        self.spot_price = spot_price\n",
    "        self.conversion_ratio = conversion_ratio\n",
    "        self.risk_free_rate = risk_free_rate\n",
    "        self.recovery_value = recovery_value\n",
    "        \n",
    "    def _calculateParameters(self, vol, di, risk_free_rate, timestep):\n",
    "        u = np.exp(np.sqrt((vol**2 - di) * timestep))\n",
    "        d = 1/u\n",
    "\n",
    "        a = np.exp((risk_free_rate) * timestep) \n",
    "        dft_prob = 1 - np.exp(-di * timestep)\n",
    "        pu = (a - d*np.exp(-di*timestep))/(u - d)\n",
    "        pd = (u*np.exp(-di*timestep) - a)/(u - d)\n",
    "\n",
    "        return dft_prob, pu, pd, u, d\n",
    "\n",
    "    def calculateValue(self, timesteps):\n",
    "        self.dt = self.duration/timesteps\n",
    "        self.timesteps = timesteps\n",
    "\n",
    "        self.coupon_payment_step = -(-self.timesteps // (self.duration * self.payment_freq))\n",
    "\n",
    "        self.dft_prob, self.pu, self.pd, self.u, self.d = self._calculateParameters(self.vol, self.di, self.risk_free_rate, self.dt)\n",
    "        \n",
    "        self.memoize = {i: dict() for i in range(101)}\n",
    "\n",
    "        convertible_bond_value = self._calculateValue_helper(0, self.spot_price)\n",
    "        return convertible_bond_value\n",
    "\n",
    "\n",
    "    def _calculateValue_helper(self, t, stock_price):\n",
    "        \n",
    "        if stock_price in self.memoize[t]:\n",
    "            return self.memoize[t][stock_price]\n",
    "        \n",
    "        convertible_value = stock_price * self.conversion_ratio\n",
    "        if t == self.timesteps:\n",
    "            return max(convertible_value, 100) + 100 * self.coupon / self.payment_freq\n",
    "        else:\n",
    "            val_up = self._calculateValue_helper(t+1, stock_price * self.u)\n",
    "            val_down = self._calculateValue_helper(t+1, stock_price * self.d)\n",
    "\n",
    "            val = (self.pu * val_up + self.pd * val_down + self.dft_prob * self.recovery_value * 100) * np.exp(-self.risk_free_rate * self.dt)\n",
    "            \n",
    "            # If this is a coupon payment timestep, add coupon payment to value\n",
    "            if (t != 0) and (t % self.coupon_payment_step == 0):\n",
    "                val = val + 100 * self.coupon / self.payment_freq\n",
    "                \n",
    "            to_return = max(convertible_value, val)\n",
    "            self.memoize[t][stock_price] = to_return\n",
    "            \n",
    "            return to_return\n"
   ]
  },
  {
   "cell_type": "code",
   "execution_count": 7,
   "metadata": {},
   "outputs": [],
   "source": [
    "val_date = datetime.date(2021, 11, 1)\n",
    "mat_date = datetime.date(2026, 11, 1)\n",
    "\n",
    "model = BinomialTreeModel(val_date, mat_date, 0.03, 2, 0.0125, 0.3, 0.01, 20, 3.7, 0)"
   ]
  },
  {
   "cell_type": "code",
   "execution_count": 8,
   "metadata": {},
   "outputs": [
    {
     "data": {
      "text/plain": [
       "116.9516324728088"
      ]
     },
     "execution_count": 8,
     "metadata": {},
     "output_type": "execute_result"
    }
   ],
   "source": [
    "model.calculateValue(100)"
   ]
  },
  {
   "cell_type": "code",
   "execution_count": 10,
   "metadata": {},
   "outputs": [],
   "source": [
    "model_u = BinomialTreeModel(val_date, mat_date, 0.03, 2, 0.0125, 0.3, 0.01, 20.2, 3.7, 0)\n",
    "model_d = BinomialTreeModel(val_date, mat_date, 0.03, 2, 0.0125, 0.3, 0.01, 19.8, 3.7, 0)"
   ]
  },
  {
   "cell_type": "code",
   "execution_count": 11,
   "metadata": {},
   "outputs": [
    {
     "data": {
      "text/plain": [
       "0.3152177765922404"
      ]
     },
     "execution_count": 11,
     "metadata": {},
     "output_type": "execute_result"
    }
   ],
   "source": [
    "val_0 = model.calculateValue(100)\n",
    "val_up = model_u.calculateValue(100)\n",
    "val_down = model_d.calculateValue(100)\n",
    "(val_up - val_down)/(2*val_0*0.01) "
   ]
  },
  {
   "cell_type": "code",
   "execution_count": null,
   "metadata": {},
   "outputs": [],
   "source": []
  }
 ],
 "metadata": {
  "kernelspec": {
   "display_name": "Python 3",
   "language": "python",
   "name": "python3"
  },
  "language_info": {
   "codemirror_mode": {
    "name": "ipython",
    "version": 3
   },
   "file_extension": ".py",
   "mimetype": "text/x-python",
   "name": "python",
   "nbconvert_exporter": "python",
   "pygments_lexer": "ipython3",
   "version": "3.7.6"
  }
 },
 "nbformat": 4,
 "nbformat_minor": 4
}
